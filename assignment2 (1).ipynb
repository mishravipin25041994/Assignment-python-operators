{
 "cells": [
  {
   "cell_type": "code",
   "execution_count": 3,
   "id": "05e16f9a-81a8-4088-9f38-988ebf47da22",
   "metadata": {},
   "outputs": [
    {
     "name": "stdout",
     "output_type": "stream",
     "text": [
      "Sum: 12\n",
      "Difference: 8\n",
      "Product: 20\n",
      "Quotient: 5.0\n"
     ]
    }
   ],
   "source": [
    "#1- Calculate the sum, difference, product, and quotient of two numbers.\n",
    "\n",
    "num1 = 10\n",
    "num2 = 2\n",
    "\n",
    "sum_result = num1 + num2\n",
    "\n",
    "difference_result = num1 - num2\n",
    "\n",
    "product_result = num1 * num2\n",
    "\n",
    "quotient_result = num1 / num2\n",
    "\n",
    "print(\"Sum:\", sum_result)\n",
    "print(\"Difference:\", difference_result)\n",
    "print(\"Product:\", product_result)\n",
    "print(\"Quotient:\", quotient_result)\n"
   ]
  },
  {
   "cell_type": "code",
   "execution_count": 11,
   "id": "29260f31-4f86-4d68-aca8-78efde5b2751",
   "metadata": {},
   "outputs": [
    {
     "name": "stdout",
     "output_type": "stream",
     "text": [
      "After addition assignment: 15\n",
      "After subtraction assignment: 12\n",
      "After multiplication assignment: 24\n",
      "After division assignment: 6.0\n",
      "After modulus assignment: 0.0\n",
      "After exponentiation assignment: 0.0\n"
     ]
    }
   ],
   "source": [
    "# 2- Perform various assignment operations on a variable.\n",
    "\n",
    "x = 10\n",
    "\n",
    "# Addition assignment\n",
    "x += 5  \n",
    "print(\"After addition assignment:\", x)\n",
    "\n",
    "# Subtraction assignment\n",
    "x -= 3 \n",
    "print(\"After subtraction assignment:\", x)\n",
    "\n",
    "# Multiplication assignment\n",
    "x *=2\n",
    "print(\"After multiplication assignment:\", x)\n",
    "\n",
    "#Division assignment\n",
    "x /= 4  \n",
    "print(\"After division assignment:\", x)\n",
    "\n",
    "# Modulus assignment\n",
    "x %= 3  \n",
    "print(\"After modulus assignment:\", x)\n",
    "\n",
    "# Exponentiation assignment\n",
    "x **= 2 \n",
    "print(\"After exponentiation assignment:\", x)\n"
   ]
  },
  {
   "cell_type": "code",
   "execution_count": 22,
   "id": "d23ae060-0caf-4660-8a60-b7deb07187f2",
   "metadata": {},
   "outputs": [
    {
     "name": "stdout",
     "output_type": "stream",
     "text": [
      "number is greater\n"
     ]
    }
   ],
   "source": [
    "# 3-Compare two numbers and print the results.\n",
    "\n",
    "num1=30\n",
    "num2=15\n",
    "if num1==num2:\n",
    "    print(\"number is equal\")\n",
    "elif num1>num2:\n",
    "        print(\"number is greater\")\n",
    "else:\n",
    "            print(\"number is lesser\")\n",
    "\n",
    "\n"
   ]
  },
  {
   "cell_type": "code",
   "execution_count": 29,
   "id": "879c4e60-ac7f-4229-bd41-ef6958f8fa82",
   "metadata": {},
   "outputs": [
    {
     "name": "stdout",
     "output_type": "stream",
     "text": [
      "num1 is greater than num2 and less then num3\n",
      "num2 is equal to 10 or num3 is equal to 20\n",
      "num1 is not equal to num2\n"
     ]
    }
   ],
   "source": [
    "# 4-Check conditions using logical operators.\n",
    "\n",
    "num1=15\n",
    "num2=10\n",
    "num3=20\n",
    "if num1>num2 and num1<num3:\n",
    "    print(\"num1 is greater than num2 and less then num3\")\n",
    "    \n",
    "if num2==10 or num3==20:\n",
    "        print(\"num2 is equal to 10 or num3 is equal to 20\")\n",
    "        \n",
    "if not num1==num2:\n",
    "            print(\"num1 is not equal to num2\")\n",
    "            "
   ]
  },
  {
   "cell_type": "code",
   "execution_count": 30,
   "id": "f22217d0-f4a2-4a32-a73e-b9ce7248d031",
   "metadata": {},
   "outputs": [
    {
     "name": "stdout",
     "output_type": "stream",
     "text": [
      "var1 is var2: False\n",
      "var1 is var3: True\n",
      "var1 is not var2: True\n",
      "var1 is not var3: False\n"
     ]
    }
   ],
   "source": [
    "# 5-  Check the identity of variables.\n",
    "\n",
    "var1 = [10, 20, 30]\n",
    "var2 = [10, 20, 30]\n",
    "var3 = var1\n",
    "\n",
    "print(\"var1 is var2:\", var1 is var2) \n",
    "print(\"var1 is var3:\", var1 is var3)  \n",
    "\n",
    "print(\"var1 is not var2:\", var1 is not var2) \n",
    "print(\"var1 is not var3:\", var1 is not var3)  \n"
   ]
  },
  {
   "cell_type": "code",
   "execution_count": 37,
   "id": "8ce715e3-0a2f-406b-bbdd-3651ba582118",
   "metadata": {},
   "outputs": [
    {
     "name": "stdout",
     "output_type": "stream",
     "text": [
      "Bitwise AND: 7 (binary: 0b111)\n",
      "Bitwise OR: 15 (binary: 0b1111)\n",
      "Bitwise XOR: 8 (binary: 0b1000)\n",
      "Bitwise NOT (complement) for num1: -16 (binary: -0b10000)\n",
      "Left shift by 2 bits: 60 (binary: 0b111100)\n",
      "Right shift by 2 bits: 3 (binary: 0b11)\n"
     ]
    }
   ],
   "source": [
    "# 6- Perform bitwise operations on any two integers.\n",
    "\n",
    "# Define two integers\n",
    "num1 = 15  \n",
    "num2 = 7   \n",
    "\n",
    "\n",
    "result_and = num1 & num2\n",
    "print(f\"Bitwise AND: {result_and} (binary: {bin(result_and)})\")\n",
    "\n",
    "\n",
    "result_or = num1 | num2\n",
    "print(f\"Bitwise OR: {result_or} (binary: {bin(result_or)})\")\n",
    "\n",
    "\n",
    "result_xor = num1 ^ num2\n",
    "print(f\"Bitwise XOR: {result_xor} (binary: {bin(result_xor)})\")\n",
    "\n",
    "result_not = ~num1\n",
    "print(f\"Bitwise NOT (complement) for num1: {result_not} (binary: {bin(result_not)})\")\n",
    "\n",
    "result_left_shift = num1 << 2\n",
    "print(f\"Left shift by 2 bits: {result_left_shift} (binary: {bin(result_left_shift)})\")\n",
    "\n",
    "result_right_shift = num1 >> 2\n",
    "print(f\"Right shift by 2 bits: {result_right_shift} (binary: {bin(result_right_shift)})\")\n"
   ]
  },
  {
   "cell_type": "code",
   "execution_count": 39,
   "id": "87599613-1e25-4ce2-a1f4-411eec89e790",
   "metadata": {},
   "outputs": [
    {
     "name": "stdout",
     "output_type": "stream",
     "text": [
      "postive number: 5\n",
      "Negative number: -5\n"
     ]
    }
   ],
   "source": [
    "# 7-Use unary operators to change the sign of a number.\n",
    "\n",
    "num = 5\n",
    "\n",
    "negative_num = -num\n",
    "\n",
    "print(\"postive number:\", num)\n",
    "print(\"Negative number:\", negative_num)\n"
   ]
  },
  {
   "cell_type": "code",
   "execution_count": 47,
   "id": "56b0ec7f-df09-42b3-b5c6-9406a1b19e89",
   "metadata": {},
   "outputs": [
    {
     "name": "stdout",
     "output_type": "stream",
     "text": [
      "The larger number is: 10\n"
     ]
    }
   ],
   "source": [
    "# 8-Use the ternary operator to assign values based on conditions.\n",
    "\n",
    "# Define two numbers\n",
    "num1 = 10\n",
    "num2 = 5\n",
    "\n",
    "larger_num = num1 if num1 > num2 else num2\n",
    "\n",
    "print(\"The larger number is:\", larger_num)\n"
   ]
  },
  {
   "cell_type": "code",
   "execution_count": null,
   "id": "9575fbb3-05a1-437c-b6ad-3feea8e8edaf",
   "metadata": {},
   "outputs": [],
   "source": []
  }
 ],
 "metadata": {
  "kernelspec": {
   "display_name": "Python 3 (ipykernel)",
   "language": "python",
   "name": "python3"
  },
  "language_info": {
   "codemirror_mode": {
    "name": "ipython",
    "version": 3
   },
   "file_extension": ".py",
   "mimetype": "text/x-python",
   "name": "python",
   "nbconvert_exporter": "python",
   "pygments_lexer": "ipython3",
   "version": "3.10.8"
  }
 },
 "nbformat": 4,
 "nbformat_minor": 5
}
